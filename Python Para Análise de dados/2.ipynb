{
 "cells": [
  {
   "cell_type": "markdown",
   "metadata": {},
   "source": [
    "# Capitulo 2: Aspectos básicos da linguagem Python"
   ]
  },
  {
   "cell_type": "markdown",
   "metadata": {},
   "source": [
    "- Python é um linguagem interpretada\n",
    "    - Execução do programa acontece em tempo real\n",
    "    - Mais lento que linguagens compiladas\n",
    "    - Python, Javascript, PHP\n"
   ]
  },
  {
   "cell_type": "code",
   "execution_count": 2,
   "metadata": {},
   "outputs": [
    {
     "data": {
      "text/plain": [
       "[-0.3014137065435323,\n",
       " 1.0374545055787725,\n",
       " -0.25832896817250645,\n",
       " 0.3206403172651333,\n",
       " -0.31805650431407606,\n",
       " 2.753063768425259,\n",
       " -0.8093231677681508]"
      ]
     },
     "execution_count": 2,
     "metadata": {},
     "output_type": "execute_result"
    }
   ],
   "source": [
    "# Exemplo do livro\n",
    "\n",
    "import numpy as np\n",
    "\n",
    "data = [np.random.standard_normal() for i in range(7)]\n",
    "\n",
    "data\n",
    "\n",
    "# O objetivo deste exemplo é mostrar que quando vc escreve o nome de uma variável e executa essa linha ele irá gerar uma representação do objeto na forma de uma string, ou seja, ele printa a variável"
   ]
  },
  {
   "cell_type": "code",
   "execution_count": 3,
   "metadata": {},
   "outputs": [
    {
     "name": "stdout",
     "output_type": "stream",
     "text": [
      "[-0.3014137065435323, 1.0374545055787725, -0.25832896817250645, 0.3206403172651333, -0.31805650431407606, 2.753063768425259, -0.8093231677681508]\n"
     ]
    }
   ],
   "source": [
    "print(data)\n",
    "\n",
    "# Observe como a formatação é diferente quando utilizamos print e quando apenas chamamos a variável. Chamar a variável como no primeiro código tem uma formatação 'pretty-printed'"
   ]
  },
  {
   "cell_type": "code",
   "execution_count": 10,
   "metadata": {},
   "outputs": [
    {
     "name": "stdout",
     "output_type": "stream",
     "text": [
      "\u001b[1;31mSignature:\u001b[0m \u001b[0mprint\u001b[0m\u001b[1;33m(\u001b[0m\u001b[1;33m*\u001b[0m\u001b[0margs\u001b[0m\u001b[1;33m,\u001b[0m \u001b[0msep\u001b[0m\u001b[1;33m=\u001b[0m\u001b[1;34m' '\u001b[0m\u001b[1;33m,\u001b[0m \u001b[0mend\u001b[0m\u001b[1;33m=\u001b[0m\u001b[1;34m'\\n'\u001b[0m\u001b[1;33m,\u001b[0m \u001b[0mfile\u001b[0m\u001b[1;33m=\u001b[0m\u001b[1;32mNone\u001b[0m\u001b[1;33m,\u001b[0m \u001b[0mflush\u001b[0m\u001b[1;33m=\u001b[0m\u001b[1;32mFalse\u001b[0m\u001b[1;33m)\u001b[0m\u001b[1;33m\u001b[0m\u001b[1;33m\u001b[0m\u001b[0m\n",
      "\u001b[1;31mDocstring:\u001b[0m\n",
      "Prints the values to a stream, or to sys.stdout by default.\n",
      "\n",
      "sep\n",
      "  string inserted between values, default a space.\n",
      "end\n",
      "  string appended after the last value, default a newline.\n",
      "file\n",
      "  a file-like object (stream); defaults to the current sys.stdout.\n",
      "flush\n",
      "  whether to forcibly flush the stream.\n",
      "\u001b[1;31mType:\u001b[0m      builtin_function_or_method"
     ]
    }
   ],
   "source": [
    "# Usar ? depois do nome de um objeto fornece informações sobre o mesmo\n",
    "b = [1, 2, 3]\n",
    "\n",
    "# b?\n",
    "\n",
    "print?"
   ]
  },
  {
   "cell_type": "code",
   "execution_count": 12,
   "metadata": {},
   "outputs": [
    {
     "name": "stdout",
     "output_type": "stream",
     "text": [
      "\u001b[1;31mSignature:\u001b[0m \u001b[0madd_numbers\u001b[0m\u001b[1;33m(\u001b[0m\u001b[0ma\u001b[0m\u001b[1;33m,\u001b[0m \u001b[0mb\u001b[0m\u001b[1;33m)\u001b[0m\u001b[1;33m\u001b[0m\u001b[1;33m\u001b[0m\u001b[0m\n",
      "\u001b[1;31mDocstring:\u001b[0m\n",
      "Add two numbers\n",
      "\n",
      "Returns\n",
      "-------\n",
      "the_sum: type of arguments\n",
      "\u001b[1;31mFile:\u001b[0m      c:\\users\\fcava\\appdata\\local\\temp\\ipykernel_75408\\1783134189.py\n",
      "\u001b[1;31mType:\u001b[0m      function"
     ]
    }
   ],
   "source": [
    "#Observe a notação de docstring... Ela tb é informada pelo ?\n",
    "\n",
    "def add_numbers(a, b):\n",
    "    \"\"\"\n",
    "    Add two numbers\n",
    "    \n",
    "    Returns\n",
    "    -------\n",
    "    the_sum: type of arguments\n",
    "    \"\"\"\n",
    "    \n",
    "    return a + b\n",
    "\n",
    "\n",
    "add_numbers?"
   ]
  },
  {
   "cell_type": "code",
   "execution_count": 11,
   "metadata": {},
   "outputs": [
    {
     "name": "stdout",
     "output_type": "stream",
     "text": [
      "np.__loader__\n",
      "np.load\n",
      "np.loadtxt"
     ]
    }
   ],
   "source": [
    "#É possível usar o ? para fazer buscas de métodos \n",
    "np.*load*?"
   ]
  },
  {
   "cell_type": "markdown",
   "metadata": {},
   "source": [
    "## Aspectos básicos do Python\n",
    "\n",
    "- Identação ao invés de chaves\n",
    "- Tudo é um objeto: Todas os tipos e estruturas de dados, métodos, funções, classes, etc. Absolutamente tudo é considerado um objeto em Python.\n",
    "- Cada objeto tem um tipo associado e dados internos\n",
    "- As variáveis armazenam a referencia de um objeto, se tivermos duas variáveis apontando para o mesmo objeto, modificar uma delas vai também modificar a outra [1]\n",
    "- Em python existe o conceito de mutabilidade dos tipos de dados [2]\n",
    "    - Tipos de dados imutáveis fazem passagem de parâmetros por valor para a função. (int, str, bytes, frozenset, tuple)\n",
    "    - Tipos de dados mutáveis fazem passagem de parâmetros por referência. (list, dict, set, bytearray)\n",
    "- Python é uma linguagem tipada, mas possui referências dinâmicas. Ou seja, uma variável que referencia um tipo inteiro pode ser alterada para referenciar um tipo string [3]\n",
    "- Python é uma linguagem com *duck typing* ou seja, não importa o tipo do objeto mas sim os métodos que ele possui. Um exemplo são objetos iteráveis... Esse tipo de objeto apresenta o método `__iter__`\n",
    "- Strings são objetos imutáveis assim como as tuplas [4]"
   ]
  },
  {
   "cell_type": "code",
   "execution_count": 13,
   "metadata": {},
   "outputs": [
    {
     "data": {
      "text/plain": [
       "[4, 2, 3]"
      ]
     },
     "execution_count": 13,
     "metadata": {},
     "output_type": "execute_result"
    }
   ],
   "source": [
    "#[1]\n",
    "\n",
    "a = [1, 2, 3]\n",
    "\n",
    "b = a #Binding -> Vinculando variáveis\n",
    "\n",
    "b[0] = 4\n",
    "\n",
    "a"
   ]
  },
  {
   "cell_type": "code",
   "execution_count": 17,
   "metadata": {},
   "outputs": [
    {
     "name": "stdout",
     "output_type": "stream",
     "text": [
      "Imutável: 1\n",
      "Mutável: [1, 2, 3, 4]\n"
     ]
    }
   ],
   "source": [
    "# [2]\n",
    "\n",
    "def change(a):\n",
    "    a = 5\n",
    "    \n",
    "def append_element(lst, el):\n",
    "    lst.append(el)\n",
    "    \n",
    "    \n",
    "a = 1\n",
    "lst = [1, 2, 3]\n",
    "\n",
    "change(a)\n",
    "append_element(lst, 4)\n",
    "\n",
    "print(f\"Imutável: {a}\")\n",
    "\n",
    "\n",
    "\n",
    "print(f\"Mutável: {lst}\")"
   ]
  },
  {
   "cell_type": "code",
   "execution_count": 18,
   "metadata": {},
   "outputs": [
    {
     "ename": "TypeError",
     "evalue": "can only concatenate str (not \"int\") to str",
     "output_type": "error",
     "traceback": [
      "\u001b[1;31m---------------------------------------------------------------------------\u001b[0m",
      "\u001b[1;31mTypeError\u001b[0m                                 Traceback (most recent call last)",
      "Cell \u001b[1;32mIn[18], line 3\u001b[0m\n\u001b[0;32m      1\u001b[0m \u001b[38;5;66;03m# [3]\u001b[39;00m\n\u001b[1;32m----> 3\u001b[0m \u001b[38;5;124;43m\"\u001b[39;49m\u001b[38;5;124;43m1\u001b[39;49m\u001b[38;5;124;43m\"\u001b[39;49m\u001b[43m \u001b[49m\u001b[38;5;241;43m+\u001b[39;49m\u001b[43m \u001b[49m\u001b[38;5;241;43m1\u001b[39;49m\n",
      "\u001b[1;31mTypeError\u001b[0m: can only concatenate str (not \"int\") to str"
     ]
    }
   ],
   "source": [
    "# [3]\n",
    "# Erro de tipagem\n",
    "\"1\" + 1"
   ]
  },
  {
   "cell_type": "code",
   "execution_count": 20,
   "metadata": {},
   "outputs": [
    {
     "ename": "TypeError",
     "evalue": "'str' object does not support item assignment",
     "output_type": "error",
     "traceback": [
      "\u001b[1;31m---------------------------------------------------------------------------\u001b[0m",
      "\u001b[1;31mTypeError\u001b[0m                                 Traceback (most recent call last)",
      "Cell \u001b[1;32mIn[20], line 3\u001b[0m\n\u001b[0;32m      1\u001b[0m string \u001b[38;5;241m=\u001b[39m \u001b[38;5;124m'\u001b[39m\u001b[38;5;124mIsso é uma string\u001b[39m\u001b[38;5;124m'\u001b[39m\n\u001b[1;32m----> 3\u001b[0m \u001b[43mstring\u001b[49m\u001b[43m[\u001b[49m\u001b[38;5;241;43m-\u001b[39;49m\u001b[38;5;241;43m1\u001b[39;49m\u001b[43m]\u001b[49m \u001b[38;5;241m=\u001b[39m \u001b[38;5;124m'\u001b[39m\u001b[38;5;124mf\u001b[39m\u001b[38;5;124m'\u001b[39m\n",
      "\u001b[1;31mTypeError\u001b[0m: 'str' object does not support item assignment"
     ]
    }
   ],
   "source": [
    "# [4]\n",
    "\n",
    "string = 'Isso é uma string'\n",
    "\n",
    "string[-1] = 'f'"
   ]
  },
  {
   "cell_type": "code",
   "execution_count": 22,
   "metadata": {},
   "outputs": [
    {
     "data": {
      "text/plain": [
       "[0, 1, 2, 3, 4]"
      ]
     },
     "execution_count": 22,
     "metadata": {},
     "output_type": "execute_result"
    }
   ],
   "source": [
    "# Slicing\n",
    "\n",
    "lst = [0, 1, 2, 3, 4, 5]\n",
    "\n",
    "lst[:5]"
   ]
  }
 ],
 "metadata": {
  "kernelspec": {
   "display_name": "myenv",
   "language": "python",
   "name": "python3"
  },
  "language_info": {
   "codemirror_mode": {
    "name": "ipython",
    "version": 3
   },
   "file_extension": ".py",
   "mimetype": "text/x-python",
   "name": "python",
   "nbconvert_exporter": "python",
   "pygments_lexer": "ipython3",
   "version": "3.11.7"
  }
 },
 "nbformat": 4,
 "nbformat_minor": 2
}
