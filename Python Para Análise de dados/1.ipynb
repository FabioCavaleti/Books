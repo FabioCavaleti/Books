{
 "cells": [
  {
   "cell_type": "markdown",
   "metadata": {},
   "source": [
    "# Capitulo 1\n",
    "O capítulo 1 fala um pouco sobre como funciona o livro, sugere um ambiente de desenvolvimento e fornece explicações de como fazer a instalação desse ambiente."
   ]
  },
  {
   "cell_type": "code",
   "execution_count": null,
   "metadata": {},
   "outputs": [],
   "source": []
  }
 ],
 "metadata": {
  "language_info": {
   "name": "python"
  }
 },
 "nbformat": 4,
 "nbformat_minor": 2
}
